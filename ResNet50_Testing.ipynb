{
  "nbformat": 4,
  "nbformat_minor": 0,
  "metadata": {
    "colab": {
      "name": "ResNet50_Testing.ipynb",
      "provenance": []
    },
    "kernelspec": {
      "name": "python3",
      "display_name": "Python 3"
    }
  },
  "cells": [
    {
      "cell_type": "code",
      "metadata": {
        "id": "nHqzU7onu9uM",
        "colab_type": "code",
        "colab": {
          "base_uri": "https://localhost:8080/",
          "height": 202
        },
        "outputId": "49a25b1e-b505-4e74-e48f-8e2f7f570174"
      },
      "source": [
        "!wget https://storage.googleapis.com/bl-scale/GBT_58064_63630_HIP75458_fine/filtered.npy"
      ],
      "execution_count": null,
      "outputs": [
        {
          "output_type": "stream",
          "text": [
            "--2020-07-18 02:23:48--  https://storage.googleapis.com/bl-scale/GBT_58064_63630_HIP75458_fine/filtered.npy\n",
            "Resolving storage.googleapis.com (storage.googleapis.com)... 108.177.97.128, 108.177.125.128, 74.125.203.128, ...\n",
            "Connecting to storage.googleapis.com (storage.googleapis.com)|108.177.97.128|:443... connected.\n",
            "HTTP request sent, awaiting response... 200 OK\n",
            "Length: 1374224480 (1.3G) [application/octet-stream]\n",
            "Saving to: ‘filtered.npy’\n",
            "\n",
            "filtered.npy        100%[===================>]   1.28G  53.5MB/s    in 22s     \n",
            "\n",
            "2020-07-18 02:24:11 (58.5 MB/s) - ‘filtered.npy’ saved [1374224480/1374224480]\n",
            "\n"
          ],
          "name": "stdout"
        }
      ]
    },
    {
      "cell_type": "code",
      "metadata": {
        "id": "YwfzZykGKBAD",
        "colab_type": "code",
        "colab": {
          "base_uri": "https://localhost:8080/",
          "height": 202
        },
        "outputId": "577b588b-942d-46f5-928d-d04b8f1e18c9"
      },
      "source": [
        "!wget https://storage.googleapis.com/bl-scale/GBT_58064_63630_HIP75458_fine/best_hits.npy"
      ],
      "execution_count": null,
      "outputs": [
        {
          "output_type": "stream",
          "text": [
            "--2020-07-20 16:57:03--  https://storage.googleapis.com/bl-scale/GBT_58064_63630_HIP75458_fine/best_hits.npy\n",
            "Resolving storage.googleapis.com (storage.googleapis.com)... 74.125.20.128, 74.125.28.128, 74.125.142.128, ...\n",
            "Connecting to storage.googleapis.com (storage.googleapis.com)|74.125.20.128|:443... connected.\n",
            "HTTP request sent, awaiting response... 200 OK\n",
            "Length: 393296 (384K) [application/octet-stream]\n",
            "Saving to: ‘best_hits.npy’\n",
            "\n",
            "\rbest_hits.npy         0%[                    ]       0  --.-KB/s               \rbest_hits.npy       100%[===================>] 384.08K  --.-KB/s    in 0.003s  \n",
            "\n",
            "2020-07-20 16:57:03 (107 MB/s) - ‘best_hits.npy’ saved [393296/393296]\n",
            "\n"
          ],
          "name": "stdout"
        }
      ]
    },
    {
      "cell_type": "code",
      "metadata": {
        "id": "icoXVk6nx3cf",
        "colab_type": "code",
        "colab": {
          "base_uri": "https://localhost:8080/",
          "height": 34
        },
        "outputId": "f210a3ab-54de-4b0c-85d0-f176ced7092c"
      },
      "source": [
        "import tensorflow as tf\n",
        "import numpy as np\n",
        "import time\n",
        "import math\n",
        "\n",
        "from tensorflow.keras import datasets, layers, models\n",
        "import matplotlib.pyplot as plt\n",
        "#from keras.layers import GlobalAveragePooling2D, Dense, Dropout,Activation,Flatten\n",
        "#from keras.models import Model\n",
        "#from keras.layers import Input\n",
        "from keras.preprocessing import image\n",
        "from keras.applications import resnet50\n",
        "from keras.applications.resnet50 import ResNet50\n",
        "from tensorflow.keras.applications.resnet50 import preprocess_input, decode_predictions\n",
        "import skimage\n",
        "from skimage import transform\n",
        "from PIL import Image\n",
        "from matplotlib import cm\n",
        "from cv2 import *"
      ],
      "execution_count": null,
      "outputs": [
        {
          "output_type": "stream",
          "text": [
            "Using TensorFlow backend.\n"
          ],
          "name": "stderr"
        }
      ]
    },
    {
      "cell_type": "code",
      "metadata": {
        "id": "hy473g18yHxD",
        "colab_type": "code",
        "colab": {}
      },
      "source": [
        "from pydrive.auth import GoogleAuth\n",
        "from pydrive.drive import GoogleDrive\n",
        "from google.colab import auth\n",
        "from oauth2client.client import GoogleCredentials\n",
        "\n",
        "# 1. Authenticate and create the PyDrive client.\n",
        "auth.authenticate_user()\n",
        "gauth = GoogleAuth()\n",
        "gauth.credentials = GoogleCredentials.get_application_default()\n",
        "drive = GoogleDrive(gauth)"
      ],
      "execution_count": null,
      "outputs": []
    },
    {
      "cell_type": "code",
      "metadata": {
        "id": "TwT3Va0K0L3_",
        "colab_type": "code",
        "colab": {
          "base_uri": "https://localhost:8080/",
          "height": 34
        },
        "outputId": "2b408041-4de4-49e4-93e9-127d69d99514"
      },
      "source": [
        "np_images = np.load('/content/filtered.npy', allow_pickle=True)\n",
        "np_images.shape"
      ],
      "execution_count": null,
      "outputs": [
        {
          "output_type": "execute_result",
          "data": {
            "text/plain": [
              "(41938, 16, 256)"
            ]
          },
          "metadata": {
            "tags": []
          },
          "execution_count": 5
        }
      ]
    },
    {
      "cell_type": "code",
      "metadata": {
        "id": "JIQTnCshAF4n",
        "colab_type": "code",
        "colab": {
          "base_uri": "https://localhost:8080/",
          "height": 72
        },
        "outputId": "a9ffed1c-3791-4b0b-a37c-08b2b743a6f8"
      },
      "source": [
        "plt.imshow(np_images[0], cmap='viridis')\n",
        "plt.imsave(arr=np_images[0], cmap='viridis', format='png', fname='obs.png')\n",
        "plt.imsave(arr=np_images[1], cmap='viridis', format='png', fname='obs1.png')"
      ],
      "execution_count": null,
      "outputs": [
        {
          "output_type": "display_data",
          "data": {
            "image/png": "[encoded data removed]",
            "text/plain": [
              "<Figure size 432x288 with 1 Axes>"
            ]
          },
          "metadata": {
            "tags": [],
            "needs_background": "light"
          }
        }
      ]
    },
    {
      "cell_type": "code",
      "metadata": {
        "id": "b5PBKDIK4al9",
        "colab_type": "code",
        "colab": {
          "base_uri": "https://localhost:8080/",
          "height": 202
        },
        "outputId": "55c03723-140d-4f4f-add5-9aa2ab969f14"
      },
      "source": [
        "model = ResNet50(weights='imagenet')\n",
        "\n",
        "def npy_to_imgRGB(img):\n",
        "    np_images_resized = skimage.transform.resize(image=img, output_shape = (224, 224))\n",
        "    np_images_resized -= np.min(np_images_resized)\n",
        "    np_images_resized = np_images_resized / np.max(np_images_resized)\n",
        "    im = cv2.cvtColor(np.float32(np_images_resized),cv2.COLOR_GRAY2RGB)\n",
        "    return im\n",
        "np_images = tf.random.shuffle(np_images)\n",
        "np_images = tf.reshape(np_images[:4000], (4000, 16*256))\n",
        "np_images = tf.cast(np_images, dtype='uint8')\n",
        "\n",
        "converted_ima = np.apply_along_axis(npy_to_imgRGB, 1, np_images)\n",
        "\n",
        "# Scale the input image to the range used in the trained network\n",
        "x = resnet50.preprocess_input(converted_ima)\n",
        "\n",
        "# Run the image through the deep neural network to make a prediction\n",
        "predictions = model.predict(x)\n",
        "\n",
        "# Look up the names of the predicted classes. Index zero is the results for the first image.\n",
        "predicted_classes = resnet50.decode_predictions(predictions, top=10)\n",
        "\n",
        "print(\"This is an image of:\")\n",
        "\n",
        "for imagenet_id, name, likelihood in predicted_classes[0]:\n",
        "    print(\" - {}: {:2f} likelihood\".format(name, likelihood))"
      ],
      "execution_count": null,
      "outputs": [
        {
          "output_type": "stream",
          "text": [
            "This is an image of:\n",
            " - web_site: 0.054473 likelihood\n",
            " - nematode: 0.044038 likelihood\n",
            " - digital_clock: 0.037005 likelihood\n",
            " - television: 0.036862 likelihood\n",
            " - matchstick: 0.034256 likelihood\n",
            " - spotlight: 0.031002 likelihood\n",
            " - shoji: 0.026331 likelihood\n",
            " - monitor: 0.026261 likelihood\n",
            " - theater_curtain: 0.025199 likelihood\n",
            " - lampshade: 0.020012 likelihood\n"
          ],
          "name": "stdout"
        }
      ]
    }
  ]
}